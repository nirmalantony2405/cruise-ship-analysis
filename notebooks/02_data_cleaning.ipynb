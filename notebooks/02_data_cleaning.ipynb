{
 "cells": [
  {
   "cell_type": "code",
   "execution_count": null,
   "metadata": {},
   "outputs": [
    {
     "name": "stdout",
     "output_type": "stream",
     "text": [
      "Cleaned data saved to 'C:\\Users\\nirma\\Cruise_ship_Perfomance\\data\\processed\\cleaned_data.csv'\n"
     ]
    }
   ],
   "source": [
    "import pandas as pd\n",
    "import sys\n",
    "import os\n",
    "\n",
    "# Define project root and add to Python path\n",
    "PROJECT_ROOT = r\"C:\\Users\\nirma\\Cruise_ship_Perfomance\"\n",
    "sys.path.append(PROJECT_ROOT)\n",
    "\n",
    "# Now import the modules\n",
    "from src.data.loader import load_data\n",
    "from src.data.cleaner import clean_data\n",
    "\n",
    "# Define data paths\n",
    "DATA_PATH = os.path.join(PROJECT_ROOT, 'data', 'data.csv')\n",
    "OUTPUT_PATH = os.path.join(PROJECT_ROOT, 'data', 'processed', 'cleaned_data.csv')\n",
    "\n",
    "# Load and clean the data\n",
    "df = load_data(DATA_PATH)\n",
    "df_cleaned = clean_data(df)\n",
    "\n",
    "# Save cleaned data\n",
    "df_cleaned.to_csv(OUTPUT_PATH, index=False)\n",
    "print(f\"Cleaned data saved to '{OUTPUT_PATH}'\")"
   ]
  }
 ],
 "metadata": {
  "kernelspec": {
   "display_name": "base",
   "language": "python",
   "name": "python3"
  },
  "language_info": {
   "codemirror_mode": {
    "name": "ipython",
    "version": 3
   },
   "file_extension": ".py",
   "mimetype": "text/x-python",
   "name": "python",
   "nbconvert_exporter": "python",
   "pygments_lexer": "ipython3",
   "version": "3.11.5"
  }
 },
 "nbformat": 4,
 "nbformat_minor": 2
}
